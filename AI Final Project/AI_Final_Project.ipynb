{
  "cells": [
    {
      "cell_type": "markdown",
      "metadata": {
        "id": "_z7ewE91Swix"
      },
      "source": [
        "#Final Project#\n"
      ]
    },
    {
      "cell_type": "code",
      "execution_count": null,
      "metadata": {
        "colab": {
          "base_uri": "https://localhost:8080/"
        },
        "id": "hhQUVtfKplq0",
        "outputId": "27feb3dd-21a9-40af-d46e-91f29d1b17f6"
      },
      "outputs": [
        {
          "output_type": "stream",
          "name": "stdout",
          "text": [
            "Requirement already satisfied: tweepy in /usr/local/lib/python3.7/dist-packages (3.10.0)\n",
            "Requirement already satisfied: requests-oauthlib>=0.7.0 in /usr/local/lib/python3.7/dist-packages (from tweepy) (1.3.1)\n",
            "Requirement already satisfied: requests[socks]>=2.11.1 in /usr/local/lib/python3.7/dist-packages (from tweepy) (2.23.0)\n",
            "Requirement already satisfied: six>=1.10.0 in /usr/local/lib/python3.7/dist-packages (from tweepy) (1.15.0)\n",
            "Requirement already satisfied: oauthlib>=3.0.0 in /usr/local/lib/python3.7/dist-packages (from requests-oauthlib>=0.7.0->tweepy) (3.2.0)\n",
            "Requirement already satisfied: idna<3,>=2.5 in /usr/local/lib/python3.7/dist-packages (from requests[socks]>=2.11.1->tweepy) (2.10)\n",
            "Requirement already satisfied: urllib3!=1.25.0,!=1.25.1,<1.26,>=1.21.1 in /usr/local/lib/python3.7/dist-packages (from requests[socks]>=2.11.1->tweepy) (1.24.3)\n",
            "Requirement already satisfied: chardet<4,>=3.0.2 in /usr/local/lib/python3.7/dist-packages (from requests[socks]>=2.11.1->tweepy) (3.0.4)\n",
            "Requirement already satisfied: certifi>=2017.4.17 in /usr/local/lib/python3.7/dist-packages (from requests[socks]>=2.11.1->tweepy) (2021.10.8)\n",
            "Requirement already satisfied: PySocks!=1.5.7,>=1.5.6 in /usr/local/lib/python3.7/dist-packages (from requests[socks]>=2.11.1->tweepy) (1.7.1)\n",
            "Requirement already satisfied: requests==2.23.0 in /usr/local/lib/python3.7/dist-packages (2.23.0)\n",
            "Requirement already satisfied: urllib3!=1.25.0,!=1.25.1,<1.26,>=1.21.1 in /usr/local/lib/python3.7/dist-packages (from requests==2.23.0) (1.24.3)\n",
            "Requirement already satisfied: certifi>=2017.4.17 in /usr/local/lib/python3.7/dist-packages (from requests==2.23.0) (2021.10.8)\n",
            "Requirement already satisfied: chardet<4,>=3.0.2 in /usr/local/lib/python3.7/dist-packages (from requests==2.23.0) (3.0.4)\n",
            "Requirement already satisfied: idna<3,>=2.5 in /usr/local/lib/python3.7/dist-packages (from requests==2.23.0) (2.10)\n",
            "Collecting folium==0.2.1\n",
            "  Downloading folium-0.2.1.tar.gz (69 kB)\n",
            "\u001b[K     |████████████████████████████████| 69 kB 3.2 MB/s \n",
            "\u001b[?25hRequirement already satisfied: Jinja2 in /usr/local/lib/python3.7/dist-packages (from folium==0.2.1) (2.11.3)\n",
            "Requirement already satisfied: MarkupSafe>=0.23 in /usr/local/lib/python3.7/dist-packages (from Jinja2->folium==0.2.1) (2.0.1)\n",
            "Building wheels for collected packages: folium\n",
            "  Building wheel for folium (setup.py) ... \u001b[?25l\u001b[?25hdone\n",
            "  Created wheel for folium: filename=folium-0.2.1-py3-none-any.whl size=79808 sha256=02bf23c5be084803e3ce4ae988c8bf1a850dedc9382e5b6dbae087b0b0c5a5d9\n",
            "  Stored in directory: /root/.cache/pip/wheels/9a/f0/3a/3f79a6914ff5affaf50cabad60c9f4d565283283c97f0bdccf\n",
            "Successfully built folium\n",
            "Installing collected packages: folium\n",
            "  Attempting uninstall: folium\n",
            "    Found existing installation: folium 0.8.3\n",
            "    Uninstalling folium-0.8.3:\n",
            "      Successfully uninstalled folium-0.8.3\n",
            "Successfully installed folium-0.2.1\n",
            "Requirement already satisfied: tweepy in /usr/local/lib/python3.7/dist-packages (3.10.0)\n",
            "Collecting tweepy\n",
            "  Downloading tweepy-4.8.0-py2.py3-none-any.whl (77 kB)\n",
            "\u001b[K     |████████████████████████████████| 77 kB 2.8 MB/s \n",
            "\u001b[?25hRequirement already satisfied: requests-oauthlib<2,>=1.2.0 in /usr/local/lib/python3.7/dist-packages (from tweepy) (1.3.1)\n",
            "Collecting requests<3,>=2.27.0\n",
            "  Downloading requests-2.27.1-py2.py3-none-any.whl (63 kB)\n",
            "\u001b[K     |████████████████████████████████| 63 kB 1.7 MB/s \n",
            "\u001b[?25hRequirement already satisfied: oauthlib<4,>=3.2.0 in /usr/local/lib/python3.7/dist-packages (from tweepy) (3.2.0)\n",
            "Requirement already satisfied: urllib3<1.27,>=1.21.1 in /usr/local/lib/python3.7/dist-packages (from requests<3,>=2.27.0->tweepy) (1.24.3)\n",
            "Requirement already satisfied: certifi>=2017.4.17 in /usr/local/lib/python3.7/dist-packages (from requests<3,>=2.27.0->tweepy) (2021.10.8)\n",
            "Requirement already satisfied: charset-normalizer~=2.0.0 in /usr/local/lib/python3.7/dist-packages (from requests<3,>=2.27.0->tweepy) (2.0.12)\n",
            "Requirement already satisfied: idna<4,>=2.5 in /usr/local/lib/python3.7/dist-packages (from requests<3,>=2.27.0->tweepy) (2.10)\n",
            "Installing collected packages: requests, tweepy\n",
            "  Attempting uninstall: requests\n",
            "    Found existing installation: requests 2.23.0\n",
            "    Uninstalling requests-2.23.0:\n",
            "      Successfully uninstalled requests-2.23.0\n",
            "  Attempting uninstall: tweepy\n",
            "    Found existing installation: tweepy 3.10.0\n",
            "    Uninstalling tweepy-3.10.0:\n",
            "      Successfully uninstalled tweepy-3.10.0\n",
            "\u001b[31mERROR: pip's dependency resolver does not currently take into account all the packages that are installed. This behaviour is the source of the following dependency conflicts.\n",
            "google-colab 1.0.0 requires requests~=2.23.0, but you have requests 2.27.1 which is incompatible.\u001b[0m\n",
            "Successfully installed requests-2.27.1 tweepy-4.8.0\n",
            "Collecting emoji\n",
            "  Downloading emoji-1.7.0.tar.gz (175 kB)\n",
            "\u001b[K     |████████████████████████████████| 175 kB 4.3 MB/s \n",
            "\u001b[?25hBuilding wheels for collected packages: emoji\n",
            "  Building wheel for emoji (setup.py) ... \u001b[?25l\u001b[?25hdone\n",
            "  Created wheel for emoji: filename=emoji-1.7.0-py3-none-any.whl size=171046 sha256=2be23f375de68b1c0555ed8cf59be527124cc964865e3e2e11ae431b0eed3472\n",
            "  Stored in directory: /root/.cache/pip/wheels/8a/4e/b6/57b01db010d17ef6ea9b40300af725ef3e210cb1acfb7ac8b6\n",
            "Successfully built emoji\n",
            "Installing collected packages: emoji\n",
            "Successfully installed emoji-1.7.0\n",
            "Requirement already satisfied: spacy in /usr/local/lib/python3.7/dist-packages (2.2.4)\n",
            "Collecting spacy\n",
            "  Downloading spacy-3.2.4-cp37-cp37m-manylinux_2_17_x86_64.manylinux2014_x86_64.whl (6.0 MB)\n",
            "\u001b[K     |████████████████████████████████| 6.0 MB 4.3 MB/s \n",
            "\u001b[?25hCollecting langcodes<4.0.0,>=3.2.0\n",
            "  Downloading langcodes-3.3.0-py3-none-any.whl (181 kB)\n",
            "\u001b[K     |████████████████████████████████| 181 kB 39.6 MB/s \n",
            "\u001b[?25hCollecting srsly<3.0.0,>=2.4.1\n",
            "  Downloading srsly-2.4.3-cp37-cp37m-manylinux_2_17_x86_64.manylinux2014_x86_64.whl (457 kB)\n",
            "\u001b[K     |████████████████████████████████| 457 kB 44.0 MB/s \n",
            "\u001b[?25hCollecting spacy-loggers<2.0.0,>=1.0.0\n",
            "  Downloading spacy_loggers-1.0.2-py3-none-any.whl (7.2 kB)\n",
            "Collecting pathy>=0.3.5\n",
            "  Downloading pathy-0.6.1-py3-none-any.whl (42 kB)\n",
            "\u001b[K     |████████████████████████████████| 42 kB 1.5 MB/s \n",
            "\u001b[?25hCollecting thinc<8.1.0,>=8.0.12\n",
            "  Downloading thinc-8.0.15-cp37-cp37m-manylinux_2_17_x86_64.manylinux2014_x86_64.whl (653 kB)\n",
            "\u001b[K     |████████████████████████████████| 653 kB 49.3 MB/s \n",
            "\u001b[?25hCollecting typing-extensions<4.0.0.0,>=3.7.4\n",
            "  Downloading typing_extensions-3.10.0.2-py3-none-any.whl (26 kB)\n",
            "Requirement already satisfied: wasabi<1.1.0,>=0.8.1 in /usr/local/lib/python3.7/dist-packages (from spacy) (0.9.1)\n",
            "Requirement already satisfied: murmurhash<1.1.0,>=0.28.0 in /usr/local/lib/python3.7/dist-packages (from spacy) (1.0.6)\n",
            "Requirement already satisfied: tqdm<5.0.0,>=4.38.0 in /usr/local/lib/python3.7/dist-packages (from spacy) (4.64.0)\n",
            "Requirement already satisfied: cymem<2.1.0,>=2.0.2 in /usr/local/lib/python3.7/dist-packages (from spacy) (2.0.6)\n",
            "Collecting pydantic!=1.8,!=1.8.1,<1.9.0,>=1.7.4\n",
            "  Downloading pydantic-1.8.2-cp37-cp37m-manylinux2014_x86_64.whl (10.1 MB)\n",
            "\u001b[K     |████████████████████████████████| 10.1 MB 29.6 MB/s \n",
            "\u001b[?25hRequirement already satisfied: click<8.1.0 in /usr/local/lib/python3.7/dist-packages (from spacy) (7.1.2)\n",
            "Collecting catalogue<2.1.0,>=2.0.6\n",
            "  Downloading catalogue-2.0.7-py3-none-any.whl (17 kB)\n",
            "Requirement already satisfied: numpy>=1.15.0 in /usr/local/lib/python3.7/dist-packages (from spacy) (1.21.6)\n",
            "Requirement already satisfied: packaging>=20.0 in /usr/local/lib/python3.7/dist-packages (from spacy) (21.3)\n",
            "Requirement already satisfied: preshed<3.1.0,>=3.0.2 in /usr/local/lib/python3.7/dist-packages (from spacy) (3.0.6)\n",
            "Collecting spacy-legacy<3.1.0,>=3.0.8\n",
            "  Downloading spacy_legacy-3.0.9-py2.py3-none-any.whl (20 kB)\n",
            "Requirement already satisfied: requests<3.0.0,>=2.13.0 in /usr/local/lib/python3.7/dist-packages (from spacy) (2.27.1)\n",
            "Collecting typer<0.5.0,>=0.3.0\n",
            "  Downloading typer-0.4.1-py3-none-any.whl (27 kB)\n",
            "Requirement already satisfied: blis<0.8.0,>=0.4.0 in /usr/local/lib/python3.7/dist-packages (from spacy) (0.4.1)\n",
            "Requirement already satisfied: jinja2 in /usr/local/lib/python3.7/dist-packages (from spacy) (2.11.3)\n",
            "Requirement already satisfied: setuptools in /usr/local/lib/python3.7/dist-packages (from spacy) (57.4.0)\n",
            "Requirement already satisfied: zipp>=0.5 in /usr/local/lib/python3.7/dist-packages (from catalogue<2.1.0,>=2.0.6->spacy) (3.8.0)\n",
            "Requirement already satisfied: pyparsing!=3.0.5,>=2.0.2 in /usr/local/lib/python3.7/dist-packages (from packaging>=20.0->spacy) (3.0.8)\n",
            "Requirement already satisfied: smart-open<6.0.0,>=5.0.0 in /usr/local/lib/python3.7/dist-packages (from pathy>=0.3.5->spacy) (5.2.1)\n",
            "Requirement already satisfied: charset-normalizer~=2.0.0 in /usr/local/lib/python3.7/dist-packages (from requests<3.0.0,>=2.13.0->spacy) (2.0.12)\n",
            "Requirement already satisfied: certifi>=2017.4.17 in /usr/local/lib/python3.7/dist-packages (from requests<3.0.0,>=2.13.0->spacy) (2021.10.8)\n",
            "Requirement already satisfied: urllib3<1.27,>=1.21.1 in /usr/local/lib/python3.7/dist-packages (from requests<3.0.0,>=2.13.0->spacy) (1.24.3)\n",
            "Requirement already satisfied: idna<4,>=2.5 in /usr/local/lib/python3.7/dist-packages (from requests<3.0.0,>=2.13.0->spacy) (2.10)\n",
            "Requirement already satisfied: MarkupSafe>=0.23 in /usr/local/lib/python3.7/dist-packages (from jinja2->spacy) (2.0.1)\n",
            "Installing collected packages: typing-extensions, catalogue, typer, srsly, pydantic, thinc, spacy-loggers, spacy-legacy, pathy, langcodes, spacy\n",
            "  Attempting uninstall: typing-extensions\n",
            "    Found existing installation: typing-extensions 4.2.0\n",
            "    Uninstalling typing-extensions-4.2.0:\n",
            "      Successfully uninstalled typing-extensions-4.2.0\n",
            "  Attempting uninstall: catalogue\n",
            "    Found existing installation: catalogue 1.0.0\n",
            "    Uninstalling catalogue-1.0.0:\n",
            "      Successfully uninstalled catalogue-1.0.0\n",
            "  Attempting uninstall: srsly\n",
            "    Found existing installation: srsly 1.0.5\n",
            "    Uninstalling srsly-1.0.5:\n",
            "      Successfully uninstalled srsly-1.0.5\n",
            "  Attempting uninstall: thinc\n",
            "    Found existing installation: thinc 7.4.0\n",
            "    Uninstalling thinc-7.4.0:\n",
            "      Successfully uninstalled thinc-7.4.0\n",
            "  Attempting uninstall: spacy\n",
            "    Found existing installation: spacy 2.2.4\n",
            "    Uninstalling spacy-2.2.4:\n",
            "      Successfully uninstalled spacy-2.2.4\n",
            "\u001b[31mERROR: pip's dependency resolver does not currently take into account all the packages that are installed. This behaviour is the source of the following dependency conflicts.\n",
            "tensorflow 2.8.0 requires tf-estimator-nightly==2.8.0.dev2021122109, which is not installed.\u001b[0m\n",
            "Successfully installed catalogue-2.0.7 langcodes-3.3.0 pathy-0.6.1 pydantic-1.8.2 spacy-3.2.4 spacy-legacy-3.0.9 spacy-loggers-1.0.2 srsly-2.4.3 thinc-8.0.15 typer-0.4.1 typing-extensions-3.10.0.2\n",
            "\u001b[38;5;3m⚠ As of spaCy v3.0, shortcuts like 'en' are deprecated. Please use the\n",
            "full pipeline package name 'en_core_web_sm' instead.\u001b[0m\n",
            "Collecting en-core-web-sm==3.2.0\n",
            "  Downloading https://github.com/explosion/spacy-models/releases/download/en_core_web_sm-3.2.0/en_core_web_sm-3.2.0-py3-none-any.whl (13.9 MB)\n",
            "\u001b[K     |████████████████████████████████| 13.9 MB 3.0 MB/s \n",
            "\u001b[?25hRequirement already satisfied: spacy<3.3.0,>=3.2.0 in /usr/local/lib/python3.7/dist-packages (from en-core-web-sm==3.2.0) (3.2.4)\n",
            "Requirement already satisfied: typer<0.5.0,>=0.3.0 in /usr/local/lib/python3.7/dist-packages (from spacy<3.3.0,>=3.2.0->en-core-web-sm==3.2.0) (0.4.1)\n",
            "Requirement already satisfied: setuptools in /usr/local/lib/python3.7/dist-packages (from spacy<3.3.0,>=3.2.0->en-core-web-sm==3.2.0) (57.4.0)\n",
            "Requirement already satisfied: spacy-loggers<2.0.0,>=1.0.0 in /usr/local/lib/python3.7/dist-packages (from spacy<3.3.0,>=3.2.0->en-core-web-sm==3.2.0) (1.0.2)\n",
            "Requirement already satisfied: pydantic!=1.8,!=1.8.1,<1.9.0,>=1.7.4 in /usr/local/lib/python3.7/dist-packages (from spacy<3.3.0,>=3.2.0->en-core-web-sm==3.2.0) (1.8.2)\n",
            "Requirement already satisfied: murmurhash<1.1.0,>=0.28.0 in /usr/local/lib/python3.7/dist-packages (from spacy<3.3.0,>=3.2.0->en-core-web-sm==3.2.0) (1.0.6)\n",
            "Requirement already satisfied: jinja2 in /usr/local/lib/python3.7/dist-packages (from spacy<3.3.0,>=3.2.0->en-core-web-sm==3.2.0) (2.11.3)\n",
            "Requirement already satisfied: tqdm<5.0.0,>=4.38.0 in /usr/local/lib/python3.7/dist-packages (from spacy<3.3.0,>=3.2.0->en-core-web-sm==3.2.0) (4.64.0)\n",
            "Requirement already satisfied: numpy>=1.15.0 in /usr/local/lib/python3.7/dist-packages (from spacy<3.3.0,>=3.2.0->en-core-web-sm==3.2.0) (1.21.6)\n",
            "Requirement already satisfied: typing-extensions<4.0.0.0,>=3.7.4 in /usr/local/lib/python3.7/dist-packages (from spacy<3.3.0,>=3.2.0->en-core-web-sm==3.2.0) (3.10.0.2)\n",
            "Requirement already satisfied: wasabi<1.1.0,>=0.8.1 in /usr/local/lib/python3.7/dist-packages (from spacy<3.3.0,>=3.2.0->en-core-web-sm==3.2.0) (0.9.1)\n",
            "Requirement already satisfied: packaging>=20.0 in /usr/local/lib/python3.7/dist-packages (from spacy<3.3.0,>=3.2.0->en-core-web-sm==3.2.0) (21.3)\n",
            "Requirement already satisfied: thinc<8.1.0,>=8.0.12 in /usr/local/lib/python3.7/dist-packages (from spacy<3.3.0,>=3.2.0->en-core-web-sm==3.2.0) (8.0.15)\n",
            "Requirement already satisfied: catalogue<2.1.0,>=2.0.6 in /usr/local/lib/python3.7/dist-packages (from spacy<3.3.0,>=3.2.0->en-core-web-sm==3.2.0) (2.0.7)\n",
            "Requirement already satisfied: blis<0.8.0,>=0.4.0 in /usr/local/lib/python3.7/dist-packages (from spacy<3.3.0,>=3.2.0->en-core-web-sm==3.2.0) (0.4.1)\n",
            "Requirement already satisfied: pathy>=0.3.5 in /usr/local/lib/python3.7/dist-packages (from spacy<3.3.0,>=3.2.0->en-core-web-sm==3.2.0) (0.6.1)\n",
            "Requirement already satisfied: langcodes<4.0.0,>=3.2.0 in /usr/local/lib/python3.7/dist-packages (from spacy<3.3.0,>=3.2.0->en-core-web-sm==3.2.0) (3.3.0)\n",
            "Requirement already satisfied: srsly<3.0.0,>=2.4.1 in /usr/local/lib/python3.7/dist-packages (from spacy<3.3.0,>=3.2.0->en-core-web-sm==3.2.0) (2.4.3)\n",
            "Requirement already satisfied: requests<3.0.0,>=2.13.0 in /usr/local/lib/python3.7/dist-packages (from spacy<3.3.0,>=3.2.0->en-core-web-sm==3.2.0) (2.27.1)\n",
            "Requirement already satisfied: click<8.1.0 in /usr/local/lib/python3.7/dist-packages (from spacy<3.3.0,>=3.2.0->en-core-web-sm==3.2.0) (7.1.2)\n",
            "Requirement already satisfied: preshed<3.1.0,>=3.0.2 in /usr/local/lib/python3.7/dist-packages (from spacy<3.3.0,>=3.2.0->en-core-web-sm==3.2.0) (3.0.6)\n",
            "Requirement already satisfied: cymem<2.1.0,>=2.0.2 in /usr/local/lib/python3.7/dist-packages (from spacy<3.3.0,>=3.2.0->en-core-web-sm==3.2.0) (2.0.6)\n",
            "Requirement already satisfied: spacy-legacy<3.1.0,>=3.0.8 in /usr/local/lib/python3.7/dist-packages (from spacy<3.3.0,>=3.2.0->en-core-web-sm==3.2.0) (3.0.9)\n",
            "Requirement already satisfied: zipp>=0.5 in /usr/local/lib/python3.7/dist-packages (from catalogue<2.1.0,>=2.0.6->spacy<3.3.0,>=3.2.0->en-core-web-sm==3.2.0) (3.8.0)\n",
            "Requirement already satisfied: pyparsing!=3.0.5,>=2.0.2 in /usr/local/lib/python3.7/dist-packages (from packaging>=20.0->spacy<3.3.0,>=3.2.0->en-core-web-sm==3.2.0) (3.0.8)\n",
            "Requirement already satisfied: smart-open<6.0.0,>=5.0.0 in /usr/local/lib/python3.7/dist-packages (from pathy>=0.3.5->spacy<3.3.0,>=3.2.0->en-core-web-sm==3.2.0) (5.2.1)\n",
            "Requirement already satisfied: certifi>=2017.4.17 in /usr/local/lib/python3.7/dist-packages (from requests<3.0.0,>=2.13.0->spacy<3.3.0,>=3.2.0->en-core-web-sm==3.2.0) (2021.10.8)\n",
            "Requirement already satisfied: idna<4,>=2.5 in /usr/local/lib/python3.7/dist-packages (from requests<3.0.0,>=2.13.0->spacy<3.3.0,>=3.2.0->en-core-web-sm==3.2.0) (2.10)\n",
            "Requirement already satisfied: charset-normalizer~=2.0.0 in /usr/local/lib/python3.7/dist-packages (from requests<3.0.0,>=2.13.0->spacy<3.3.0,>=3.2.0->en-core-web-sm==3.2.0) (2.0.12)\n",
            "Requirement already satisfied: urllib3<1.27,>=1.21.1 in /usr/local/lib/python3.7/dist-packages (from requests<3.0.0,>=2.13.0->spacy<3.3.0,>=3.2.0->en-core-web-sm==3.2.0) (1.24.3)\n",
            "Requirement already satisfied: MarkupSafe>=0.23 in /usr/local/lib/python3.7/dist-packages (from jinja2->spacy<3.3.0,>=3.2.0->en-core-web-sm==3.2.0) (2.0.1)\n",
            "Installing collected packages: en-core-web-sm\n",
            "  Attempting uninstall: en-core-web-sm\n",
            "    Found existing installation: en-core-web-sm 2.2.5\n",
            "    Uninstalling en-core-web-sm-2.2.5:\n",
            "      Successfully uninstalled en-core-web-sm-2.2.5\n",
            "Successfully installed en-core-web-sm-3.2.0\n",
            "\u001b[38;5;2m✔ Download and installation successful\u001b[0m\n",
            "You can now load the package via spacy.load('en_core_web_sm')\n"
          ]
        }
      ],
      "source": [
        "!pip install tweepy\n",
        "!pip install requests==2.23.0\n",
        "!pip install folium==0.2.1\n",
        "!pip install --upgrade tweepy\n",
        "!pip install emoji\n",
        "!pip install -U spacy\n",
        "!python -m spacy download en"
      ]
    },
    {
      "cell_type": "code",
      "execution_count": 2,
      "metadata": {
        "id": "eAjXaCSlBQ_P"
      },
      "outputs": [],
      "source": [
        "import tensorflow_datasets\n",
        "import tensorflow as tf\n",
        "import numpy as np\n",
        "import pandas\n",
        "import matplotlib.pyplot as plt\n",
        "import csv\n",
        "import pandas as pd\n",
        "from os import write\n",
        "import tweepy\n",
        "import re\n",
        "import spacy as sp"
      ]
    },
    {
      "cell_type": "code",
      "execution_count": null,
      "metadata": {
        "id": "0NK9fEFgp2Ts"
      },
      "outputs": [],
      "source": [
        "\n",
        "def give_emoji_free_text(self, text):\n",
        "    allchars = [str for str in text]\n",
        "    emoji_list = [c for c in allchars if c in emoji.UNICODE_EMOJI]\n",
        "    clean_text = ' '.join([str for str in text.split() if not any(i in str for i in emoji_list)])\n",
        "\n",
        "    return clean_text"
      ]
    },
    {
      "cell_type": "code",
      "execution_count": null,
      "metadata": {
        "id": "pi8WmNIup41G"
      },
      "outputs": [],
      "source": [
        "#0 is democrat, 1 is republican\n",
        "#help from https://medium.com/@robguilarr/making-queries-to-twitter-api-on-tweepy-66afeb7184a4\n",
        "\n",
        "def make_tweets_d(hashtags = []):\n",
        "  client = tweepy.Client(bearer_token='AAAAAAAAAAAAAAAAAAAAAL7UbQEAAAAA%2FqR5jYCoUB7%2FvFPx2AEEiXX%2B%2FlM%3DFL6indMpRE0wtKNkIKkzroYye0kbNytitlpzTGTagDReuvItzL')\n",
        "\n",
        "  col_names = ['tweet', 'bias']\n",
        "  df = pd.DataFrame(columns = col_names)\n",
        "  tweet_list = []\n",
        "\n",
        "  for hashtag in hashtags:\n",
        "    \n",
        "    query = f'{hashtag} -is:retweet' #this is just whatever query, this is the twitter handle excluding retweets\n",
        "\n",
        "    for tweet in tweepy.Paginator(client.search_recent_tweets, query=query,\n",
        "                                  tweet_fields=['context_annotations', 'created_at'], max_results=100).flatten(limit=1000):\n",
        "      clean_tweet = re.sub(\"@[A-Za-z0-9_#]+\",\"\", tweet.text)\n",
        "      #clean_tweet = give_emoji_free_text(clean_tweet)\n",
        "      tweet_list.append(clean_tweet)\n",
        "  \n",
        "\n",
        "  df['tweet'] = tweet_list\n",
        "\n",
        "  test_col = []\n",
        "  for i in range(len(df.index)):\n",
        "    test_col.append(0)\n",
        "\n",
        "  df['bias'] = test_col\n",
        "\n",
        "  return df\n",
        "\n",
        "def make_tweets_r(hashtags = []):\n",
        "  client = tweepy.Client(bearer_token='AAAAAAAAAAAAAAAAAAAAAL7UbQEAAAAA%2FqR5jYCoUB7%2FvFPx2AEEiXX%2B%2FlM%3DFL6indMpRE0wtKNkIKkzroYye0kbNytitlpzTGTagDReuvItzL')\n",
        "\n",
        "  col_names = ['tweet', 'bias']\n",
        "  df = pd.DataFrame(columns = col_names)\n",
        "  tweet_list = []\n",
        "\n",
        "  for hashtag in hashtags:\n",
        "    \n",
        "    query = f'{hashtag} -is:retweet' #this is just whatever query, this is the twitter handle excluding retweets\n",
        "\n",
        "    for tweet in tweepy.Paginator(client.search_recent_tweets, query=query,\n",
        "                                  tweet_fields=['context_annotations', 'created_at'], max_results=100).flatten(limit=1000):\n",
        "      clean_tweet = re.sub(\"@[A-Za-z0-9_#]+\",\"\", tweet.text)\n",
        "      #clean_tweet = give_emoji_free_text(clean_tweet)\n",
        "      tweet_list.append(clean_tweet)\n",
        "  \n",
        "\n",
        "  df['tweet'] = tweet_list\n",
        "\n",
        "  test_col = []\n",
        "  for i in range(len(df.index)):\n",
        "    test_col.append(1)\n",
        "\n",
        "  df['bias'] = test_col\n",
        "\n",
        "  return df"
      ]
    },
    {
      "cell_type": "code",
      "execution_count": null,
      "metadata": {
        "id": "6GeFQrjPp6rr"
      },
      "outputs": [],
      "source": [
        "d_df = make_tweets_d(['#january6th', '#cnn', '#traitors', '#prochoice'])\n",
        "r_df = make_tweets_r(['#stopthesteal', '#antifa', '#notmypresident', '#prolife'])"
      ]
    },
    {
      "cell_type": "code",
      "execution_count": null,
      "metadata": {
        "id": "n-s4ripLp9h_"
      },
      "outputs": [],
      "source": [
        "combined_df = pd.concat([d_df, r_df], ignore_index=True)\n",
        "combined_df.to_csv('Tweets5.0.csv', index = None, encoding = 'utf-8-sig')"
      ]
    },
    {
      "cell_type": "code",
      "execution_count": 3,
      "metadata": {
        "id": "EANoymYTBTsq"
      },
      "outputs": [],
      "source": [
        "#creates input file\n",
        "intputFile = 'Tweets3.0.csv'\n",
        "\n",
        "#creates datasets by splitting input file\n",
        "train_dataset = np.array(pandas.read_csv(intputFile,nrows=3500, delimiter=',',usecols=['tweet','bias'],skip_blank_lines=True))\n",
        "test_dataset = np.array(pandas.read_csv(intputFile,skiprows=[i for i in range(1,3500)], delimiter=',',usecols=['tweet','bias'],skip_blank_lines=True))"
      ]
    },
    {
      "cell_type": "code",
      "execution_count": 4,
      "metadata": {
        "colab": {
          "base_uri": "https://localhost:8080/",
          "height": 347
        },
        "id": "yeUwL1UpIyIJ",
        "outputId": "e7af37e5-e050-4e2d-a7c5-37c1913d13f7"
      },
      "outputs": [
        {
          "output_type": "display_data",
          "data": {
            "text/plain": [
              "<Figure size 432x288 with 1 Axes>"
            ],
            "image/png": "[encoded data removed]"
          },
          "metadata": {
            "needs_background": "light"
          }
        },
        {
          "output_type": "stream",
          "name": "stdout",
          "text": [
            "Size of data set: 7146\n",
            "Number of democrat tweets: 4000\n",
            "Number of republican tweets: 3146\n"
          ]
        }
      ],
      "source": [
        "data = pd.read_csv(\"Tweets3.0.csv\") \n",
        "\n",
        "b = data['bias'].tolist()\n",
        "\n",
        "dem = 0\n",
        "rep = 0\n",
        "x = 0\n",
        "for i in b:\n",
        "  if b[x] == 0:\n",
        "    dem += 1\n",
        "  else:\n",
        "    rep += 1\n",
        "  x +=1\n",
        "\n",
        "Party = ['Democrat', 'Republican']\n",
        "Tweets = [dem, rep]\n",
        "New_Colors = ['blue','red']\n",
        "plt.bar(Party, Tweets, color=New_Colors)\n",
        "\n",
        "plt.title('Tweets Per Party')\n",
        "plt.xlabel('Party')\n",
        "plt.ylabel('Number per tweets')\n",
        "plt.show()\n",
        "\n",
        "print(\"Size of data set:\", len(b))\n",
        "print(\"Number of democrat tweets:\",dem)\n",
        "print(\"Number of republican tweets:\",rep)\n"
      ]
    },
    {
      "cell_type": "code",
      "execution_count": 5,
      "metadata": {
        "colab": {
          "base_uri": "https://localhost:8080/"
        },
        "id": "XfLbV98NS2L2",
        "outputId": "23cba939-4988-4d38-a7e8-fc14aaff77d1"
      },
      "outputs": [
        {
          "output_type": "stream",
          "name": "stdout",
          "text": [
            "(3500, 2)\n",
            "(3647, 2)\n"
          ]
        }
      ],
      "source": [
        "print(train_dataset.shape)\n",
        "print(test_dataset.shape)"
      ]
    },
    {
      "cell_type": "code",
      "execution_count": 6,
      "metadata": {
        "colab": {
          "base_uri": "https://localhost:8080/"
        },
        "id": "msK1b8nRBUQh",
        "outputId": "ba27b429-d484-45e5-c4f4-ea506f10abec"
      },
      "outputs": [
        {
          "output_type": "stream",
          "name": "stdout",
          "text": [
            "b'#WeWontForget #Betrayal #Parasite #ThisIsNotJournalism #Complicit #Traitors #WeSeeYou #Scumbags #Grub #Presstitute #PoliticalActivist  #Criminal #MurdochMuppets #CancelFairfax  #AbcSaboteurs #AbscondmentDay #SackTheHack #CrumbMaiden https://t.co/FYyXJYf8Si https://t.co/gdGSofMIfy'\n",
            "0\n",
            "b'@cynthiamckinney More Testimonies will come from #US...!!\\n\\nRight now, When the #Traitors inside will #Fight over the #Stolen Goods, The #World will See...!!\\n\\n#\\xd8\\xa7\\xd9\\x85\\xd9\\xbe\\xd9\\x88\\xd8\\xb1\\xd9\\xb9\\xda\\x88_\\xd8\\xad\\xda\\xa9\\xd9\\x88\\xd9\\x85\\xd8\\xaa_\\xd9\\x86\\xd8\\xa7\\xd9\\x85\\xd9\\x86\\xd8\\xb8\\xd9\\x88\\xd8\\xb1'\n",
            "0\n",
            "\n",
            "(3500,)\n",
            "(3647,)\n"
          ]
        }
      ],
      "source": [
        "#creates the train and test numpy arrays/tensors\n",
        "x_train = []\n",
        "y_train = []\n",
        "\n",
        "for sample, label in train_dataset:\n",
        "  sample = tf.convert_to_tensor(sample)\n",
        "  label = tf.convert_to_tensor(label)\n",
        "  x_train.append(sample.numpy())\n",
        "  y_train.append(label.numpy())\n",
        "\n",
        "x_train = np.asarray(x_train)\n",
        "y_train = np.asarray(y_train)\n",
        "\n",
        "print(x_train[0])\n",
        "print(y_train[0])\n",
        "\n",
        "x_test = []\n",
        "y_test = []\n",
        "\n",
        "for sample, label in test_dataset:\n",
        "  sample = tf.convert_to_tensor(sample)\n",
        "  label = tf.convert_to_tensor(label)\n",
        "  x_test.append(sample.numpy())\n",
        "  y_test.append(label.numpy())\n",
        "\n",
        "x_test = np.asarray(x_test)\n",
        "y_test = np.asarray(y_test)\n",
        "\n",
        "print(x_test[0])\n",
        "print(y_test[0])\n",
        "\n",
        "print()\n",
        "print(x_train.shape)\n",
        "print(x_test.shape)\n"
      ]
    },
    {
      "cell_type": "code",
      "execution_count": 7,
      "metadata": {
        "id": "nzoijrw6BYU4"
      },
      "outputs": [],
      "source": [
        "#sets the vocab size and creates the vectorize layer\n",
        "max_words = 1000\n",
        "vectorize_layer = tf.keras.layers.TextVectorization(max_tokens=max_words)\n",
        "\n",
        "vectorize_layer.adapt(x_train)"
      ]
    },
    {
      "cell_type": "code",
      "execution_count": 8,
      "metadata": {
        "colab": {
          "base_uri": "https://localhost:8080/"
        },
        "id": "-NgIMXW4BaFQ",
        "outputId": "9b48cf61-ee03-44ff-89b8-8fc538343b2f"
      },
      "outputs": [
        {
          "output_type": "execute_result",
          "data": {
            "text/plain": [
              "array(['it', 'i', 'be', 'abortion', 'with', 'gop', 'have', 'your',\n",
              "       'trump', 'all', 'we', 'will', 'was', 'their', 'what', 'people',\n",
              "       'if', 'who', 'from', 'like', 'so', 'as', 'or', 'foxnews', 'an',\n",
              "       'but', 'no', 'ukraine', 'by', 'our', 'die', 'stopthesteal', 'do',\n",
              "       'msnbc', 'he', 'maga', 'at', 'about', 'just', 'how', 'out', 'der',\n",
              "       'news', 'blm', 'und', 'us', 'get', 'up', 'biden', 'more', 'when',\n",
              "       'his', 'women', 'de', 'should', 'right', 'one', 'why', 'has',\n",
              "       'criminal', 'ist', 'my', 'now', 'can', 'its', 'were', 'via',\n",
              "       'democrats', 'abortionishealthcare', 'life', 'steinmeier',\n",
              "       'complicit', 'weseeyou', 'betrayal', 'republicans'], dtype='<U31')"
            ]
          },
          "metadata": {},
          "execution_count": 8
        }
      ],
      "source": [
        "#creates the vocab starting at 25 to 100\n",
        "vocab = np.array(vectorize_layer.get_vocabulary())\n",
        "vocab[25:100]"
      ]
    },
    {
      "cell_type": "code",
      "execution_count": 9,
      "metadata": {
        "colab": {
          "base_uri": "https://localhost:8080/"
        },
        "id": "2y7anXmEBbg-",
        "outputId": "e9a428a4-dc1d-4e72-d0cb-6bef9b1ee149"
      },
      "outputs": [
        {
          "output_type": "stream",
          "name": "stdout",
          "text": [
            "[b'#WeWontForget #Betrayal #Parasite #ThisIsNotJournalism #Complicit #Traitors #WeSeeYou #Scumbags #Grub #Presstitute #PoliticalActivist  #Criminal #MurdochMuppets #CancelFairfax  #AbcSaboteurs #AbscondmentDay #SackTheHack #CrumbMaiden https://t.co/FYyXJYf8Si https://t.co/gdGSofMIfy'\n",
            " b'#POTUS \\n#SCOTUS \\n#GOP \\n#DNC \\n#FoxNews \\n#CNN \\n#Antifa \\n#BlackLivesMatter \\n#PONTIFEX \\n#CopelandNetwork \\n#UN \\n#NATO \\n#WSJ \\n#NYSE\\n#California \\n#Mexico \\n#Canada \\n\\nThis is happening on the sun.\\nBe aware of this until the end of this month.\\n\\nCORONAL MASS EJECTION\\nhttps://t.co/7X3BuJ765D']\n",
            "[[102  98 101 103  96  14  97 104 110 106 107  84 109 111 113 112 105 116\n",
            "    1   1   0   0   0   0   0   0   0   0   0   0   0   0   0   0   0   0\n",
            "    0]\n",
            " [100 173  30 160  48  10  15 121 232 248 120 166 122 225 196 244 187  20\n",
            "    7   1  22   2   1  27   1   5  20 534   2 454   5  20   1   1 911   1\n",
            "    1]]\n"
          ]
        }
      ],
      "source": [
        "#print tweets used for vectorization\n",
        "print(x_train[:2])\n",
        "vectorized = vectorize_layer(x_train[:2]).numpy()\n",
        "print(vectorized)"
      ]
    },
    {
      "cell_type": "code",
      "execution_count": 10,
      "metadata": {
        "colab": {
          "base_uri": "https://localhost:8080/"
        },
        "id": "x3SxLJrtl3cW",
        "outputId": "09090589-5344-455a-b850-270fd8698d4e"
      },
      "outputs": [
        {
          "output_type": "stream",
          "name": "stdout",
          "text": [
            "(3500,)\n",
            "(3647,)\n"
          ]
        }
      ],
      "source": [
        "#convert tensors to numpy arrays\n",
        "x_train = np.array(x_train)\n",
        "x_test = np.array(x_test)\n",
        "y_train = np.array(y_train)\n",
        "y_test = np.array(y_test)\n",
        "\n",
        "print(x_train.shape)\n",
        "print(x_test.shape)"
      ]
    },
    {
      "cell_type": "code",
      "execution_count": 11,
      "metadata": {
        "id": "7SUoIOK0BfsU"
      },
      "outputs": [],
      "source": [
        "#create the model\n",
        "model = tf.keras.Sequential([\n",
        "    vectorize_layer,\n",
        "    tf.keras.layers.Embedding(input_dim=len(vectorize_layer.get_vocabulary()), output_dim=64, mask_zero=True),\n",
        "    tf.keras.layers.Bidirectional(tf.keras.layers.LSTM(64)),\n",
        "    tf.keras.layers.Dense(64, activation='relu'),\n",
        "    tf.keras.layers.Dense(1, activation='sigmoid')\n",
        "])"
      ]
    },
    {
      "cell_type": "code",
      "execution_count": 13,
      "metadata": {
        "colab": {
          "base_uri": "https://localhost:8080/"
        },
        "id": "i_rup0o4BgUr",
        "outputId": "c76e0c65-c558-4fb0-8188-025c0043878d"
      },
      "outputs": [
        {
          "output_type": "stream",
          "name": "stdout",
          "text": [
            "Epoch 1/15\n",
            "55/55 [==============================] - 19s 124ms/step - loss: 0.6894 - accuracy: 0.5560 - val_loss: 0.6848 - val_accuracy: 0.5640\n",
            "Epoch 2/15\n",
            "55/55 [==============================] - 4s 65ms/step - loss: 0.6776 - accuracy: 0.5600 - val_loss: 0.6662 - val_accuracy: 0.5912\n",
            "Epoch 3/15\n",
            "55/55 [==============================] - 4s 65ms/step - loss: 0.6244 - accuracy: 0.7043 - val_loss: 0.5433 - val_accuracy: 0.8555\n",
            "Epoch 4/15\n",
            "55/55 [==============================] - 4s 65ms/step - loss: 0.3909 - accuracy: 0.9346 - val_loss: 0.3321 - val_accuracy: 0.9438\n",
            "Epoch 5/15\n",
            "55/55 [==============================] - 4s 65ms/step - loss: 0.2629 - accuracy: 0.9671 - val_loss: 0.2933 - val_accuracy: 0.9539\n",
            "Epoch 6/15\n",
            "55/55 [==============================] - 4s 65ms/step - loss: 0.2191 - accuracy: 0.9697 - val_loss: 0.2524 - val_accuracy: 0.9567\n",
            "Epoch 7/15\n",
            "55/55 [==============================] - 4s 65ms/step - loss: 0.1756 - accuracy: 0.9803 - val_loss: 0.2614 - val_accuracy: 0.9564\n",
            "Epoch 8/15\n",
            "55/55 [==============================] - 4s 65ms/step - loss: 0.1597 - accuracy: 0.9814 - val_loss: 0.2803 - val_accuracy: 0.9545\n",
            "Epoch 9/15\n",
            "55/55 [==============================] - 4s 65ms/step - loss: 0.1378 - accuracy: 0.9826 - val_loss: 0.2350 - val_accuracy: 0.9583\n",
            "Epoch 10/15\n",
            "55/55 [==============================] - 4s 64ms/step - loss: 0.1264 - accuracy: 0.9857 - val_loss: 0.2279 - val_accuracy: 0.9591\n",
            "Epoch 11/15\n",
            "55/55 [==============================] - 4s 65ms/step - loss: 0.1077 - accuracy: 0.9851 - val_loss: 0.2383 - val_accuracy: 0.9602\n",
            "Epoch 12/15\n",
            "55/55 [==============================] - 4s 65ms/step - loss: 0.0972 - accuracy: 0.9874 - val_loss: 0.2341 - val_accuracy: 0.9594\n",
            "Epoch 13/15\n",
            "55/55 [==============================] - 4s 65ms/step - loss: 0.0901 - accuracy: 0.9863 - val_loss: 0.2592 - val_accuracy: 0.9572\n",
            "Epoch 14/15\n",
            "55/55 [==============================] - 4s 71ms/step - loss: 0.0831 - accuracy: 0.9871 - val_loss: 0.2365 - val_accuracy: 0.9611\n",
            "Epoch 15/15\n",
            "55/55 [==============================] - 4s 65ms/step - loss: 0.0795 - accuracy: 0.9869 - val_loss: 0.2367 - val_accuracy: 0.9611\n"
          ]
        }
      ],
      "source": [
        "#compiles the model and conducts the history using early stop and model saves for best weights\n",
        "model.compile(loss=tf.keras.losses.BinaryCrossentropy(), optimizer=tf.keras.optimizers.Adam(1e-4), metrics=['accuracy'])\n",
        "\n",
        "history = model.fit(x=x_train, y=y_train, epochs=15, batch_size=64, validation_data=(x_test, y_test))\n"
      ]
    },
    {
      "cell_type": "code",
      "execution_count": 14,
      "metadata": {
        "colab": {
          "base_uri": "https://localhost:8080/",
          "height": 518
        },
        "id": "AVwmCelQBjC6",
        "outputId": "f44d4e25-e495-4407-e36e-0e2a39ee2112"
      },
      "outputs": [
        {
          "output_type": "execute_result",
          "data": {
            "text/plain": [
              "(0.0, 0.7198945861309767)"
            ]
          },
          "metadata": {},
          "execution_count": 14
        },
        {
          "output_type": "display_data",
          "data": {
            "text/plain": [
              "<Figure size 1152x576 with 2 Axes>"
            ],
            "image/png": "[encoded data removed]"
          },
          "metadata": {
            "needs_background": "light"
          }
        }
      ],
      "source": [
        "#plots accuracy and loss values\n",
        "def plot_graphs(history, metric):\n",
        "  plt.plot(history.history[metric])\n",
        "  plt.plot(history.history['val_'+metric], '')\n",
        "  plt.xlabel(\"Epochs\")\n",
        "  plt.ylabel(metric)\n",
        "  plt.legend([metric, 'val_'+metric])\n",
        "\n",
        "plt.figure(figsize=(16, 8))\n",
        "plt.subplot(1, 2, 1)\n",
        "plot_graphs(history, 'accuracy')\n",
        "plt.ylim(None, 1)\n",
        "plt.subplot(1, 2, 2)\n",
        "plot_graphs(history, 'loss')\n",
        "plt.ylim(0, None)"
      ]
    },
    {
      "cell_type": "code",
      "execution_count": 15,
      "metadata": {
        "id": "g_jnqEhq9LnQ",
        "colab": {
          "base_uri": "https://localhost:8080/"
        },
        "outputId": "62af279b-f7b9-4b2e-a1ce-7398cd208a71"
      },
      "outputs": [
        {
          "output_type": "stream",
          "name": "stdout",
          "text": [
            "TRAINING SET\n",
            "Loss: 0.07356578856706619 \n",
            "Accuracy: 0.9885714054107666\n",
            "\n",
            "TEST SET\n",
            "Loss: 0.23665758967399597 \n",
            "Accuracy: 0.9610638618469238\n"
          ]
        }
      ],
      "source": [
        "#provides the overall accuracy and loss scores\n",
        "scores = model.evaluate(x_train, y_train, verbose=0)\n",
        "print('TRAINING SET\\nLoss:', scores[0], '\\nAccuracy:', scores[1])\n",
        "\n",
        "scores = model.evaluate(x_test, y_test, verbose=0)\n",
        "print('\\nTEST SET\\nLoss:', scores[0], '\\nAccuracy:', scores[1])\n"
      ]
    },
    {
      "cell_type": "code",
      "execution_count": 16,
      "metadata": {
        "colab": {
          "base_uri": "https://localhost:8080/"
        },
        "id": "UDwTkkVnPUiX",
        "outputId": "e4ab1923-db62-460c-a798-01e9112a2a66"
      },
      "outputs": [
        {
          "output_type": "stream",
          "name": "stdout",
          "text": [
            "110/110 [==============================] - 4s 40ms/step - loss: 0.0799 - accuracy: 0.9877\n"
          ]
        }
      ],
      "source": [
        "#runs a predictive model\n",
        "model.fit(x_train, y_train)\n",
        "\n",
        "yfit = model.predict(x_test)"
      ]
    },
    {
      "cell_type": "code",
      "execution_count": 17,
      "metadata": {
        "colab": {
          "base_uri": "https://localhost:8080/"
        },
        "id": "DI5IMJmQPW2J",
        "outputId": "687ff9b9-a055-44c2-aab5-edac3977ec53"
      },
      "outputs": [
        {
          "output_type": "stream",
          "name": "stdout",
          "text": [
            "Max Error:  1\n",
            "Explained Variance Score:  0.8442608227052273\n",
            "Mean Absolute Error:  0.03838771593090211\n",
            "Median Absolute Error:  0.0\n"
          ]
        }
      ],
      "source": [
        "from sklearn.metrics import max_error\n",
        "from sklearn.metrics import explained_variance_score\n",
        "from sklearn.metrics import mean_absolute_error\n",
        "from sklearn.metrics import median_absolute_error\n",
        "\n",
        "#rounds predictions for analysis\n",
        "y_pred = np.where(yfit > 0.5, 1, 0)\n",
        "\n",
        "#prints error and variance values\n",
        "print(\"Max Error: \", max_error(y_test, y_pred))\n",
        "print(\"Explained Variance Score: \", explained_variance_score(y_test, y_pred))\n",
        "print(\"Mean Absolute Error: \", mean_absolute_error(y_test,y_pred))\n",
        "print(\"Median Absolute Error: \", median_absolute_error(y_test,y_pred))"
      ]
    },
    {
      "cell_type": "code",
      "execution_count": 18,
      "metadata": {
        "colab": {
          "base_uri": "https://localhost:8080/"
        },
        "id": "wTZ77j_aPbUF",
        "outputId": "adeee198-1183-49d1-bfd7-d238b947b132"
      },
      "outputs": [
        {
          "output_type": "stream",
          "name": "stdout",
          "text": [
            "              precision    recall  f1-score   support\n",
            "\n",
            "           0       0.96      0.97      0.97      2051\n",
            "           1       0.96      0.95      0.96      1596\n",
            "\n",
            "    accuracy                           0.96      3647\n",
            "   macro avg       0.96      0.96      0.96      3647\n",
            "weighted avg       0.96      0.96      0.96      3647\n",
            "\n"
          ]
        }
      ],
      "source": [
        "from sklearn.metrics import classification_report\n",
        "#prints classification report\n",
        "print(classification_report(y_test,y_pred))"
      ]
    },
    {
      "cell_type": "code",
      "execution_count": 19,
      "metadata": {
        "colab": {
          "base_uri": "https://localhost:8080/",
          "height": 285
        },
        "id": "VOgvcQ7YPdeD",
        "outputId": "1af140ae-751b-4f22-d131-b9012c771236"
      },
      "outputs": [
        {
          "output_type": "display_data",
          "data": {
            "text/plain": [
              "<Figure size 432x288 with 1 Axes>"
            ],
            "image/png": "[encoded data removed]"
          },
          "metadata": {}
        }
      ],
      "source": [
        "from sklearn.metrics import confusion_matrix\n",
        "import seaborn as sns; sns.set()\n",
        "\n",
        "#creates the confusion matrix using the predicted values\n",
        "mat = confusion_matrix(y_test, y_pred)\n",
        "sns.heatmap(mat.T, square=True, annot=True, fmt='d', cbar=False, xticklabels=\"auto\", yticklabels=\"auto\")\n",
        "plt.xlabel('True')\n",
        "plt.ylabel('Prediction');"
      ]
    },
    {
      "cell_type": "markdown",
      "metadata": {
        "id": "jk0zjtWhYqvl"
      },
      "source": [
        "#Performance\n",
        "Our LSTM performed with above 90% accuracy for the training and testing sets.\n",
        "\n",
        "The LSTM performs best when more tweets are in use. For example, a csv file with 10 representatives (5 democrat and 5 republican) would perform very well if each person had 10000 tweets listed. A csv file with the same representatives but only 500 tweets per person would perform much worse.\n",
        "\n",
        "This is due to the vocabulary used. More samples means the LSTM can find more matching vocab for each party and produce better predictions.\n",
        "\n",
        "\n",
        "\n",
        "\n",
        "\n"
      ]
    }
  ],
  "metadata": {
    "accelerator": "GPU",
    "colab": {
      "collapsed_sections": [],
      "name": "AI Final Project.ipynb",
      "provenance": []
    },
    "kernelspec": {
      "display_name": "Python 3",
      "name": "python3"
    },
    "language_info": {
      "name": "python"
    }
  },
  "nbformat": 4,
  "nbformat_minor": 0
}